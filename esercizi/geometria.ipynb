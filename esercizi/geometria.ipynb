{
  "cells": [
    {
      "cell_type": "markdown",
      "metadata": {
        "id": "HB3XbPDcSqe1"
      },
      "source": [
        "# Esercizi Geometrici"
      ]
    },
    {
      "cell_type": "markdown",
      "metadata": {
        "id": "LCcywn6v2KxD"
      },
      "source": [
        "In Python per stampare consecutivamente più parole senza creare una riga per ognuna bisogna usare il seguente codice:\n"
      ]
    },
    {
      "cell_type": "code",
      "execution_count": null,
      "metadata": {
        "colab": {
          "base_uri": "https://localhost:8080/"
        },
        "id": "PHdyo8E42sza",
        "outputId": "fb51a75d-54ef-48c3-f6ad-342834d2738b"
      },
      "outputs": [],
      "source": [
        "print(\"Parola 1\", end=\" \")\n",
        "print(\"Parola 2\", end=\".\\n\")\n",
        "print(\"Parola 3\")"
      ]
    },
    {
      "cell_type": "code",
      "execution_count": null,
      "metadata": {
        "colab": {
          "base_uri": "https://localhost:8080/"
        },
        "id": "0U7L9A29RfeT",
        "outputId": "ccdd9b72-55df-486a-a68d-cfe73e90461d"
      },
      "outputs": [],
      "source": [
        "# Es 6.1: Scrivi la funzione quadrato(n) che stampi a schermo un quadrato di lato nxn formato utilizzando il carattere *\n",
        "#         Esempio:    3 ->  * * *       4 ->  * * * *\n",
        "#                           * * *             * * * *\n",
        "#                           * * *             * * * *\n",
        "#                                             * * * *\n",
        "m = 0\n",
        "while m <= 0:\n",
        "    m = int(input(\"Inserisci il lato (positivo) del quadrato\"))\n",
        "def quadrato(n):\n",
        "    for k in range (0,n):\n",
        "        for j in range (0,n):\n",
        "            print(\"*\", end=\" \")\n",
        "        print(end=\"\\n\")\n",
        "quadrato(m)"
      ]
    },
    {
      "cell_type": "code",
      "execution_count": null,
      "metadata": {
        "id": "gE3RVr9ORuwP"
      },
      "outputs": [],
      "source": [
        "# Es 6.2: Scrivi la funzione rettangolo(n) che stampi a schermo un rettangolo di lato nx2n formato utilizzando il carattere *\n",
        "#         Esempio:    3 ->  * * * * * *         4 ->  * * * * * * * *\n",
        "#                           * * * * * *               * * * * * * * *\n",
        "#                           * * * * * *               * * * * * * * *\n",
        "#                                                     * * * * * * * *\n",
        "m = 0\n",
        "while m <= 0:\n",
        "    m = int(input(\"Inserisci l'altezza (positiva) del rettangolo\"))\n",
        "def rettangolo(n):\n",
        "    for k in range (0,n):\n",
        "        for j in range (0,2*n):\n",
        "            print(\"*\", end=\" \")\n",
        "        print(end=\"\\n\")\n",
        "rettangolo(m)"
      ]
    },
    {
      "cell_type": "code",
      "execution_count": null,
      "metadata": {
        "id": "r1A_DavcSKgi"
      },
      "outputs": [],
      "source": [
        "# Es 6.3: Scrivi la funzione triangolo_rettangolo(n) che stampi a schermo un triangolo di cateti n e n formato utilizzando il carattere *\n",
        "#         Esempio:    3 ->  *           4 ->  *\n",
        "#                           * *               * *\n",
        "#                           * * *             * * *\n",
        "#                                             * * * *\n",
        "m = 0\n",
        "while m <= 0:\n",
        "    m = int(input(\"Inserisci il cateto (positivo) del triangolo rettangolo\"))\n",
        "def triangolo_rettangolo(n):\n",
        "    for k in range (0,n):\n",
        "        for j in range (0,k+1):\n",
        "            print(\"*\", end=\" \")\n",
        "        print(end=\"\\n\")\n",
        "triangolo_rettangolo(m)"
      ]
    },
    {
      "cell_type": "code",
      "execution_count": null,
      "metadata": {
        "id": "iA9D4X_GSims"
      },
      "outputs": [],
      "source": [
        "# Es 6.4: Scrivi la funzione bordo_quadrato(n) che stampi a schermo un quadrato di lato nxn formato utilizzando il carattere * come contorno\n",
        "#         Esempio:    3 ->  * * *       4 ->  * * * *\n",
        "#                           *   *             *     *\n",
        "#                           * * *             *     *\n",
        "#                                             * * * *\n",
        "m = 0\n",
        "while m <= 0:\n",
        "    m = int(input(\"Inserisci il lato (positivo) del quadrato\"))\n",
        "def bordo_quadrato(n):\n",
        "    for k in range (0,n):\n",
        "        for j in range (0,n):\n",
        "            if (k == 0) or (k == n-1) or (j == 0) or (j == n-1):\n",
        "                print(\"*\", end=\" \")\n",
        "            else:\n",
        "                print(end=\"  \")\n",
        "        print(end=\"\\n\")\n",
        "bordo_quadrato(m)"
      ]
    },
    {
      "cell_type": "code",
      "execution_count": null,
      "metadata": {
        "colab": {
          "base_uri": "https://localhost:8080/"
        },
        "id": "1vlDMqo_4uNc",
        "outputId": "de4cc1b2-7110-4ad6-b86c-d67c5756c074"
      },
      "outputs": [],
      "source": [
        "# Es 6.5: Scrivi la funzione bordo_quadrato_bello(n) che stampi a schermo un quadrato di lato nxn formato utilizzando iseguenti caratteri:\n",
        "#         Esempio:    3 ->  / - \\       4 ->  / - - \\\n",
        "#                           |   |             |     |\n",
        "#                           \\ - /             |     |\n",
        "#                                             \\ - - /\n",
        "# Per stampare \\ dovete utilizzare \"\\\\\" ovvero print(\"\\\\\")\n",
        "m = 0\n",
        "while m <= 0:\n",
        "    m = int(input(\"Inserisci il lato (positivo) del quadrato\"))\n",
        "def bordo_quadrato_bello(n):\n",
        "    for k in range (0,n):\n",
        "        for j in range (0,n):\n",
        "            if j == 0:\n",
        "                if k == 0:\n",
        "                    print(\"/\", end=\" \")\n",
        "                elif k == n-1:\n",
        "                    print(\"\\\\\", end=\" \")\n",
        "                else:\n",
        "                    print(\"|\", end=\" \")\n",
        "            elif j == n-1:\n",
        "                if k == 0:\n",
        "                    print(\"\\\\\")\n",
        "                elif k == n-1:\n",
        "                    print(\"/\")\n",
        "                else:\n",
        "                    print(\"|\")\n",
        "            elif (k == 0) or (k == n-1):\n",
        "                print(\"-\", end=\" \")\n",
        "            else:\n",
        "                print(end=\"  \")\n",
        "bordo_quadrato_bello(m)"
      ]
    },
    {
      "cell_type": "code",
      "execution_count": null,
      "metadata": {
        "id": "2E9Hk9kkv5Mx"
      },
      "outputs": [],
      "source": [
        "# Es 6.6: Scrivi la funzione trianglo_bello(n) che stampi a schermo un triangolo di cateti n e n formato utilizzando iseguenti caratteri:\n",
        "#.   ^\\\n",
        "#    | \\\n",
        "#.   |  \\\n",
        "#.   |___\\\n",
        "m = 0\n",
        "while m <= 0:\n",
        "    m = int(input(\"Inserisci il cateto (positivo) del triangolo\"))\n",
        "def triangolo_bello(n):\n",
        "    for k in range (0,n):\n",
        "        for j in range (0,k+2):\n",
        "            if j == 0:\n",
        "                if k == 0:\n",
        "                    print(\"^\", end=\"\")\n",
        "                else:\n",
        "                    print(\"|\", end=\"\")\n",
        "            elif j == k+1:\n",
        "                print(\"\\\\\")\n",
        "            elif k == n-1:\n",
        "                print(\"_\", end=\"\")\n",
        "            else:\n",
        "                print(end=\" \")\n",
        "triangolo_bello(m)"
      ]
    }
  ],
  "metadata": {
    "colab": {
      "provenance": []
    },
    "kernelspec": {
      "display_name": "Python 3",
      "name": "python3"
    },
    "language_info": {
      "codemirror_mode": {
        "name": "ipython",
        "version": 3
      },
      "file_extension": ".py",
      "mimetype": "text/x-python",
      "name": "python",
      "nbconvert_exporter": "python",
      "pygments_lexer": "ipython3",
      "version": "3.10.8"
    }
  },
  "nbformat": 4,
  "nbformat_minor": 0
}
