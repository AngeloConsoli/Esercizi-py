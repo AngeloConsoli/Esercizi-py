{
  "cells": [
    {
      "cell_type": "markdown",
      "metadata": {
        "id": "HB3XbPDcSqe1"
      },
      "source": [
        "# Esercizi IF"
      ]
    },
    {
      "cell_type": "code",
      "execution_count": 1,
      "metadata": {
        "id": "0U7L9A29RfeT"
      },
      "outputs": [
        {
          "ename": "ValueError",
          "evalue": "invalid literal for int() with base 10: ''",
          "output_type": "error",
          "traceback": [
            "\u001b[0;31m---------------------------------------------------------------------------\u001b[0m",
            "\u001b[0;31mValueError\u001b[0m                                Traceback (most recent call last)",
            "\u001b[1;32m/workspaces/Esercizi-py/esercizi/if_e_while.ipynb Cella 2\u001b[0m line \u001b[0;36m2\n\u001b[1;32m      <a href='vscode-notebook-cell://codespaces%2Bminiature-fiesta-69g6wp5j695r255pj/workspaces/Esercizi-py/esercizi/if_e_while.ipynb#W1sdnNjb2RlLXJlbW90ZQ%3D%3D?line=0'>1</a>\u001b[0m \u001b[39m# Es 4.1: Ottenere dall'utente un numero in input e scrivere a schermo \"Pari\" se il numero è pari, scrivere \"Dispari\" altrimenti\u001b[39;00m\n\u001b[0;32m----> <a href='vscode-notebook-cell://codespaces%2Bminiature-fiesta-69g6wp5j695r255pj/workspaces/Esercizi-py/esercizi/if_e_while.ipynb#W1sdnNjb2RlLXJlbW90ZQ%3D%3D?line=1'>2</a>\u001b[0m x \u001b[39m=\u001b[39m \u001b[39mint\u001b[39;49m(\u001b[39minput\u001b[39;49m (\u001b[39m\"\u001b[39;49m\u001b[39mInserisci un numero \u001b[39;49m\u001b[39m\"\u001b[39;49m))\n\u001b[1;32m      <a href='vscode-notebook-cell://codespaces%2Bminiature-fiesta-69g6wp5j695r255pj/workspaces/Esercizi-py/esercizi/if_e_while.ipynb#W1sdnNjb2RlLXJlbW90ZQ%3D%3D?line=2'>3</a>\u001b[0m \u001b[39mif\u001b[39;00m x \u001b[39m%\u001b[39m \u001b[39m2\u001b[39m \u001b[39m==\u001b[39m \u001b[39m0\u001b[39m:\n\u001b[1;32m      <a href='vscode-notebook-cell://codespaces%2Bminiature-fiesta-69g6wp5j695r255pj/workspaces/Esercizi-py/esercizi/if_e_while.ipynb#W1sdnNjb2RlLXJlbW90ZQ%3D%3D?line=3'>4</a>\u001b[0m     \u001b[39mprint\u001b[39m(\u001b[39m\"\u001b[39m\u001b[39mPari\u001b[39m\u001b[39m\"\u001b[39m)\n",
            "\u001b[0;31mValueError\u001b[0m: invalid literal for int() with base 10: ''"
          ]
        }
      ],
      "source": [
        "# Es 4.1: Ottenere dall'utente un numero in input e scrivere a schermo \"Pari\" se il numero è pari, scrivere \"Dispari\" altrimenti\n",
        "x = int(input (\"Inserisci un numero \"))\n",
        "if x % 2 == 0:\n",
        "    print(\"Pari\")\n",
        "else:\n",
        "    print(\"Dispari\")"
      ]
    },
    {
      "cell_type": "code",
      "execution_count": 9,
      "metadata": {
        "id": "gE3RVr9ORuwP"
      },
      "outputs": [
        {
          "name": "stdout",
          "output_type": "stream",
          "text": [
            "È un triangolo\n"
          ]
        }
      ],
      "source": [
        "# Es 4.2: Ottenere dall'utente tre angoli caso siano i tre angoli di un triangolo scrivere a schermo \"È un triangolo\", altrimenti \"Non è un triangolo\"\n",
        "a = [0, 0, 0]\n",
        "for k in range (0, 3):\n",
        "    while a[k] <= 0:\n",
        "        a[k] = int(input (\"Inserisci l'ampiezza di un angolo\"))\n",
        "if a[0] + a[1] + a[2] == 180:\n",
        "    print(\"È un triangolo\")\n",
        "else:\n",
        "    print(\"Non è un triangolo\")"
      ]
    },
    {
      "cell_type": "code",
      "execution_count": 13,
      "metadata": {
        "id": "r1A_DavcSKgi"
      },
      "outputs": [
        {
          "name": "stdout",
          "output_type": "stream",
          "text": [
            "È un triangolo rettangolo\n"
          ]
        }
      ],
      "source": [
        "# Es 4.3: Ottenuti dall'utente tre angoli di un tringolo scrivere a schermo se i tre angoli descrivono un triangolo rettangolo o no\n",
        "a = [0, 0, 0]\n",
        "for k in range (0, 3):\n",
        "    while a[k] <= 0:\n",
        "        a[k] = int(input (\"Inserisci l'ampiezza di un angolo\"))\n",
        "if a[0] + a[1] + a[2] == 180:\n",
        "    if (a[0] == 90) or (a[1] == 90) or (a[2] == 90):\n",
        "        print(\"È un triangolo rettangolo\")\n",
        "    else:\n",
        "        print(\"Non è un triangolo rettangolo\")\n",
        "else:\n",
        "    print(\"Non è un triangolo\")"
      ]
    },
    {
      "cell_type": "code",
      "execution_count": 15,
      "metadata": {
        "id": "iA9D4X_GSims"
      },
      "outputs": [
        {
          "ename": "ValueError",
          "evalue": "invalid literal for int() with base 10: ''",
          "output_type": "error",
          "traceback": [
            "\u001b[0;31m---------------------------------------------------------------------------\u001b[0m",
            "\u001b[0;31mValueError\u001b[0m                                Traceback (most recent call last)",
            "\u001b[1;32m/workspaces/Esercizi-py/esercizi/if_e_while.ipynb Cella 5\u001b[0m line \u001b[0;36m5\n\u001b[1;32m      <a href='vscode-notebook-cell://codespaces%2Bminiature-fiesta-69g6wp5j695r255pj/workspaces/Esercizi-py/esercizi/if_e_while.ipynb#W4sdnNjb2RlLXJlbW90ZQ%3D%3D?line=2'>3</a>\u001b[0m \u001b[39mfor\u001b[39;00m k \u001b[39min\u001b[39;00m \u001b[39mrange\u001b[39m (\u001b[39m0\u001b[39m, \u001b[39m3\u001b[39m):\n\u001b[1;32m      <a href='vscode-notebook-cell://codespaces%2Bminiature-fiesta-69g6wp5j695r255pj/workspaces/Esercizi-py/esercizi/if_e_while.ipynb#W4sdnNjb2RlLXJlbW90ZQ%3D%3D?line=3'>4</a>\u001b[0m     \u001b[39mwhile\u001b[39;00m a[k] \u001b[39m<\u001b[39m\u001b[39m=\u001b[39m \u001b[39m0\u001b[39m:\n\u001b[0;32m----> <a href='vscode-notebook-cell://codespaces%2Bminiature-fiesta-69g6wp5j695r255pj/workspaces/Esercizi-py/esercizi/if_e_while.ipynb#W4sdnNjb2RlLXJlbW90ZQ%3D%3D?line=4'>5</a>\u001b[0m         a[k] \u001b[39m=\u001b[39m \u001b[39mint\u001b[39;49m(\u001b[39minput\u001b[39;49m (\u001b[39m\"\u001b[39;49m\u001b[39mInserisci l\u001b[39;49m\u001b[39m'\u001b[39;49m\u001b[39mampiezza di un angolo\u001b[39;49m\u001b[39m\"\u001b[39;49m))\n\u001b[1;32m      <a href='vscode-notebook-cell://codespaces%2Bminiature-fiesta-69g6wp5j695r255pj/workspaces/Esercizi-py/esercizi/if_e_while.ipynb#W4sdnNjb2RlLXJlbW90ZQ%3D%3D?line=5'>6</a>\u001b[0m \u001b[39mif\u001b[39;00m a[\u001b[39m0\u001b[39m] \u001b[39m+\u001b[39m a[\u001b[39m1\u001b[39m] \u001b[39m+\u001b[39m a[\u001b[39m2\u001b[39m] \u001b[39m==\u001b[39m \u001b[39m180\u001b[39m:\n\u001b[1;32m      <a href='vscode-notebook-cell://codespaces%2Bminiature-fiesta-69g6wp5j695r255pj/workspaces/Esercizi-py/esercizi/if_e_while.ipynb#W4sdnNjb2RlLXJlbW90ZQ%3D%3D?line=6'>7</a>\u001b[0m     \u001b[39mif\u001b[39;00m (a[\u001b[39m0\u001b[39m] \u001b[39m==\u001b[39m a[\u001b[39m1\u001b[39m]) \u001b[39mand\u001b[39;00m (a[\u001b[39m1\u001b[39m] \u001b[39m==\u001b[39m a[\u001b[39m2\u001b[39m]):\n",
            "\u001b[0;31mValueError\u001b[0m: invalid literal for int() with base 10: ''"
          ]
        }
      ],
      "source": [
        "# Es 4.4: Ottenuti dall'utente tre angoli di un tringolo scrivere a schermo se i tre angoli descrivono un triangolo equilatero o no\n",
        "a = [0, 0, 0]\n",
        "for k in range (0, 3):\n",
        "    while a[k] <= 0:\n",
        "        a[k] = int(input (\"Inserisci l'ampiezza di un angolo\"))\n",
        "if a[0] + a[1] + a[2] == 180:\n",
        "    if (a[0] == a[1]) and (a[1] == a[2]):\n",
        "        print(\"È un triangolo equilatero\")\n",
        "    else:\n",
        "        print(\"Non è un triangolo equilatero\")\n",
        "else:\n",
        "    print(\"Non è un triangolo\")"
      ]
    },
    {
      "cell_type": "code",
      "execution_count": null,
      "metadata": {
        "id": "8q4gadoTSU7J"
      },
      "outputs": [],
      "source": [
        "# Es 4.5: Ottenuti dall'utente tre angoli di un tringolo scrivere a schermo se i tre angoli descrivono un triangolo isocele o no\n",
        "x = int(input (\"Inserisci l'ampiezza del primo angolo \"))\n",
        "y = int(input (\"Inserisci l'ampiezza del secondo angolo \"))\n",
        "z = int(input (\"Inserisci l'ampiezza del terzo angolo \"))\n",
        "if (x == y) or (y == z):\n",
        "    print(\"È un triangolo isoscele\")\n",
        "else:\n",
        "    print(\"Non è un triangolo isoscele\")"
      ]
    },
    {
      "cell_type": "code",
      "execution_count": null,
      "metadata": {
        "id": "yVIE2kK3SYlq"
      },
      "outputs": [],
      "source": [
        "# Es 4.6: Ottenuti dall'utente tre angoli di un tringolo scrivere a schermo se i tre angoli descrivono un triangolo isocele, rettagolo, equilatero o scaleno\n",
        "x = int(input (\"Inserisci l'ampiezza del primo angolo \"))\n",
        "y = int(input (\"Inserisci l'ampiezza del secondo angolo \"))\n",
        "z = int(input (\"Inserisci l'ampiezza del terzo angolo \"))\n",
        "if (x > 0) and (y > 0) and (z > 0) and (x < 180) and (y < 180) (z < 180) and (x + y + z == 180):\n",
        "    if \n",
        "else:\n",
        "    print(\"Non è un triangolo\")"
      ]
    },
    {
      "cell_type": "markdown",
      "metadata": {
        "id": "ef5snVxLqeQh"
      },
      "source": [
        "# Esercizi WHILE\n"
      ]
    },
    {
      "cell_type": "code",
      "execution_count": null,
      "metadata": {
        "id": "j61RqiHxqdmh"
      },
      "outputs": [],
      "source": [
        "# Es 4.7: Creare una funzione print_n(n,v) che stampi n volte il. contenuto di v\n"
      ]
    },
    {
      "cell_type": "code",
      "execution_count": null,
      "metadata": {
        "colab": {
          "base_uri": "https://localhost:8080/"
        },
        "id": "-6lAm-hfq9w9",
        "outputId": "399e82ba-3cfe-475f-f8df-0e156677ec75"
      },
      "outputs": [],
      "source": [
        "# Es 4.8: Inserito il numero n dire per quali numeri, compresi tra 1 e n, è divisibile.\n",
        "# Inserisco 10: stampo 1,2,5\n",
        "# Inserisco 7: stampo 1\n"
      ]
    },
    {
      "cell_type": "code",
      "execution_count": null,
      "metadata": {
        "colab": {
          "base_uri": "https://localhost:8080/"
        },
        "id": "GjC4LdR7rP-b",
        "outputId": "9f539b4d-c307-479a-da13-610a7e1cc46e"
      },
      "outputs": [],
      "source": [
        "# Es 4.9: Inserito il numero n dire se è primo o no\n"
      ]
    },
    {
      "cell_type": "code",
      "execution_count": null,
      "metadata": {
        "colab": {
          "base_uri": "https://localhost:8080/"
        },
        "id": "CxtWnOdHsTv4",
        "outputId": "5d874410-cb07-46a2-9c22-83d541b7a91a"
      },
      "outputs": [],
      "source": [
        "# Es 4.10: Creare la funzione moltiplica che restituisce il prodotto tra due numeri senza utilizzare *\n",
        "# 3*4 è uguale a 4+4+4\n"
      ]
    }
  ],
  "metadata": {
    "colab": {
      "provenance": []
    },
    "kernelspec": {
      "display_name": "Python 3",
      "name": "python3"
    },
    "language_info": {
      "codemirror_mode": {
        "name": "ipython",
        "version": 3
      },
      "file_extension": ".py",
      "mimetype": "text/x-python",
      "name": "python",
      "nbconvert_exporter": "python",
      "pygments_lexer": "ipython3",
      "version": "3.10.8"
    }
  },
  "nbformat": 4,
  "nbformat_minor": 0
}
