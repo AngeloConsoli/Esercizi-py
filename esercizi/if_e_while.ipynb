{
  "cells": [
    {
      "cell_type": "markdown",
      "metadata": {
        "id": "HB3XbPDcSqe1"
      },
      "source": [
        "# Esercizi IF"
      ]
    },
    {
      "cell_type": "code",
      "execution_count": null,
      "metadata": {
        "id": "0U7L9A29RfeT"
      },
      "outputs": [],
      "source": [
        "# Es 4.1: Ottenere dall'utente un numero in input e scrivere a schermo \"Pari\" se il numero è pari, scrivere \"Dispari\" altrimenti\n",
        "x = int(input (\"Inserisci un numero \"))\n",
        "if x % 2 == 0:\n",
        "    print(\"Pari\")\n",
        "else:\n",
        "    print(\"Dispari\")"
      ]
    },
    {
      "cell_type": "code",
      "execution_count": null,
      "metadata": {
        "id": "gE3RVr9ORuwP"
      },
      "outputs": [],
      "source": [
        "# Es 4.2: Ottenere dall'utente tre angoli caso siano i tre angoli di un triangolo scrivere a schermo \"È un triangolo\", altrimenti \"Non è un triangolo\"\n",
        "a = [0, 0, 0]\n",
        "for k in range (0, 3):\n",
        "    while a[k] <= 0:\n",
        "        a[k] = int(input (\"Inserisci l'ampiezza di un angolo\"))\n",
        "if a[0] + a[1] + a[2] == 180:\n",
        "    print(\"È un triangolo\")\n",
        "else:\n",
        "    print(\"Non è un triangolo\")"
      ]
    },
    {
      "cell_type": "code",
      "execution_count": null,
      "metadata": {
        "id": "r1A_DavcSKgi"
      },
      "outputs": [],
      "source": [
        "# Es 4.3: Ottenuti dall'utente tre angoli di un tringolo scrivere a schermo se i tre angoli descrivono un triangolo rettangolo o no\n",
        "a = [0, 0, 0]\n",
        "for k in range (0, 3):\n",
        "    while a[k] <= 0:\n",
        "        a[k] = int(input (\"Inserisci l'ampiezza di un angolo\"))\n",
        "if a[0] + a[1] + a[2] == 180:\n",
        "    if (a[0] == 90) or (a[1] == 90) or (a[2] == 90):\n",
        "        print(\"È un triangolo rettangolo\")\n",
        "    else:\n",
        "        print(\"Non è un triangolo rettangolo\")\n",
        "else:\n",
        "    print(\"Non è un triangolo\")"
      ]
    },
    {
      "cell_type": "code",
      "execution_count": null,
      "metadata": {
        "id": "iA9D4X_GSims"
      },
      "outputs": [],
      "source": [
        "# Es 4.4: Ottenuti dall'utente tre angoli di un tringolo scrivere a schermo se i tre angoli descrivono un triangolo equilatero o no\n",
        "a = [0, 0, 0]\n",
        "for k in range (0, 3):\n",
        "    while a[k] <= 0:\n",
        "        a[k] = int(input (\"Inserisci l'ampiezza di un angolo\"))\n",
        "if a[0] + a[1] + a[2] == 180:\n",
        "    if (a[0] == a[1]) and (a[1] == a[2]):\n",
        "        print(\"È un triangolo equilatero\")\n",
        "    else:\n",
        "        print(\"Non è un triangolo equilatero\")\n",
        "else:\n",
        "    print(\"Non è un triangolo\")"
      ]
    },
    {
      "cell_type": "code",
      "execution_count": null,
      "metadata": {
        "id": "8q4gadoTSU7J"
      },
      "outputs": [],
      "source": [
        "# Es 4.5: Ottenuti dall'utente tre angoli di un tringolo scrivere a schermo se i tre angoli descrivono un triangolo isocele o no\n",
        "a = [0, 0, 0]\n",
        "for k in range (0, 3):\n",
        "    while a[k] <= 0:\n",
        "        a[k] = int(input (\"Inserisci l'ampiezza di un angolo\"))\n",
        "if a[0] + a[1] + a[2] == 180:\n",
        "    if (a[0] == a[1]) or (a[1] == a[2]):\n",
        "        if (a[0] == a[1]) and (a[1] == a[2]):\n",
        "            print(\"È un triangolo equilatero\")\n",
        "        else:\n",
        "            print(\"È un triangolo isocele\")\n",
        "    else:\n",
        "        print(\"Non è un triangolo isoscele\")      \n",
        "else:\n",
        "    print(\"Non è un triangolo\")"
      ]
    },
    {
      "cell_type": "code",
      "execution_count": null,
      "metadata": {
        "id": "yVIE2kK3SYlq"
      },
      "outputs": [],
      "source": [
        "# Es 4.6: Ottenuti dall'utente tre angoli di un tringolo scrivere a schermo se i tre angoli descrivono un triangolo isocele, rettagolo, equilatero o scaleno\n",
        "a = [0, 0, 0]\n",
        "for k in range (0, 3):\n",
        "    while a[k] <= 0:\n",
        "        a[k] = int(input (\"Inserisci l'ampiezza di un angolo\"))\n",
        "if a[0] + a[1] + a[2] == 180:\n",
        "    if (a[0] == a[1]) or (a[1] == a[2]):\n",
        "        if (a[0] == a[1]) and (a[1] == a[2]):\n",
        "            print(\"È un triangolo equilatero\")\n",
        "        else:\n",
        "            print(\"È un triangolo isocele\")\n",
        "    else:\n",
        "        print(\"È un triangolo scaleno\")\n",
        "    if (a[0] == 90) or (a[1] == 90) or (a[2] == 90):\n",
        "        print(\"È un triangolo rettangolo\")\n",
        "else:\n",
        "    print(\"Non è un triangolo\")"
      ]
    },
    {
      "cell_type": "markdown",
      "metadata": {
        "id": "ef5snVxLqeQh"
      },
      "source": [
        "# Esercizi WHILE\n"
      ]
    },
    {
      "cell_type": "code",
      "execution_count": null,
      "metadata": {
        "id": "j61RqiHxqdmh"
      },
      "outputs": [],
      "source": [
        "# Es 4.7: Creare una funzione print_n(n,v) che stampi n volte il. contenuto di v\n",
        "w = input(\"Inserisci ciò che vuoi stampare\")\n",
        "m = int(input(\"Quante volte lo vuoi ripetere\"))\n",
        "def print_n(n,v):\n",
        "    for k in range (0,n):\n",
        "        print(v)\n",
        "print_n(m, w)"
      ]
    },
    {
      "cell_type": "code",
      "execution_count": null,
      "metadata": {
        "colab": {
          "base_uri": "https://localhost:8080/"
        },
        "id": "-6lAm-hfq9w9",
        "outputId": "399e82ba-3cfe-475f-f8df-0e156677ec75"
      },
      "outputs": [],
      "source": [
        "# Es 4.8: Inserito il numero n dire per quali numeri, compresi tra 1 e n, è divisibile.\n",
        "# Inserisco 10: stampo 1,2,5\n",
        "# Inserisco 7: stampo 1\n",
        "n = int(input(\"Inserisci un numero\"))\n",
        "for k in range (1, n):\n",
        "    if n % k == 0:\n",
        "        print(k)"
      ]
    },
    {
      "cell_type": "code",
      "execution_count": null,
      "metadata": {
        "colab": {
          "base_uri": "https://localhost:8080/"
        },
        "id": "GjC4LdR7rP-b",
        "outputId": "9f539b4d-c307-479a-da13-610a7e1cc46e"
      },
      "outputs": [],
      "source": [
        "# Es 4.9: Inserito il numero n dire se è primo o no\n",
        "n = 0\n",
        "while (n <= 1):\n",
        "    n = int(input(\"Inserisci un numero maggiore di 1\"))\n",
        "a = 0\n",
        "for k in range (1, n):\n",
        "    if n % k == 0:\n",
        "        a = a + 1\n",
        "if a <= 1:\n",
        "    print(\"È primo\")\n",
        "else:\n",
        "    print(\"Non è primo\")"
      ]
    },
    {
      "cell_type": "code",
      "execution_count": null,
      "metadata": {
        "colab": {
          "base_uri": "https://localhost:8080/"
        },
        "id": "CxtWnOdHsTv4",
        "outputId": "5d874410-cb07-46a2-9c22-83d541b7a91a"
      },
      "outputs": [],
      "source": [
        "# Es 4.10: Creare la funzione moltiplica che restituisce il prodotto tra due numeri senza utilizzare *\n",
        "# 3*4 è uguale a 4+4+4\n",
        "f = int(input(\"Inserisci il primo fattore dell moltiplizazione\"))\n",
        "g = int(input(\"Inserisci il secondo fattore dell moltiplizazione\"))\n",
        "def moltiplica(n,m):\n",
        "    prodotto = 0\n",
        "    for k in range (0,n):\n",
        "        prodotto = prodotto + m\n",
        "    print(prodotto)\n",
        "moltiplica(f, g)"
      ]
    }
  ],
  "metadata": {
    "colab": {
      "provenance": []
    },
    "kernelspec": {
      "display_name": "Python 3",
      "name": "python3"
    },
    "language_info": {
      "codemirror_mode": {
        "name": "ipython",
        "version": 3
      },
      "file_extension": ".py",
      "mimetype": "text/x-python",
      "name": "python",
      "nbconvert_exporter": "python",
      "pygments_lexer": "ipython3",
      "version": "3.10.8"
    }
  },
  "nbformat": 4,
  "nbformat_minor": 0
}
