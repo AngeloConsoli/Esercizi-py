{
  "cells": [
    {
      "cell_type": "markdown",
      "metadata": {
        "id": "inJF5uifNBg0"
      },
      "source": [
        "# Esercizi"
      ]
    },
    {
      "cell_type": "code",
      "execution_count": 3,
      "metadata": {
        "id": "EFiuNikwM8hY"
      },
      "outputs": [
        {
          "name": "stdout",
          "output_type": "stream",
          "text": [
            "        * - - - - - - * \n",
            "      / |           / | \n",
            "    /   |         /   | \n",
            "  /     |       /     | \n",
            "* - - - - - - *     \n",
            "|       |     |       | \n",
            "|       |     |       | \n",
            "        * - - - - - - * \n",
            "|     /       |     /   \n",
            "|   /         |   /     \n",
            "| /           | /       \n",
            "* - - - - - - *     \n"
          ]
        }
      ],
      "source": [
        "# Es 7.1: Scrivi la funzione cubo(n) che stampi a schermo un quadrato di lato nxn formato utilizzando il carattere *\n",
        "#         Esempio:                       8 ->        * - - - - - - *     2 ->   * *\n",
        "#                                                  / |           / |          * * *\n",
        "#                                                /   |         /   |          * *\n",
        "#                                              /     |       /     |\n",
        "#                                            * - - - - - - *       |\n",
        "#                                            |       |     |       |\n",
        "#                                            |       |     |       |\n",
        "#                                            |       * - - | - - - *\n",
        "#                                            |     /       |     /\n",
        "#                                            |   /         |   /\n",
        "#                                            | /           | /\n",
        "#                                            * - - - - - - *\n",
        "a = 0\n",
        "while a <= 0:\n",
        "    a = int(input(\"Inserisci il lato (pari e positivo) del cubo\"))\n",
        "b = int(3/2*a)\n",
        "def cubo(m,n):\n",
        "    for j in range(m):\n",
        "        for k in range (m):\n",
        "            if (j == 0) or (j == n-1):\n",
        "                if (k == n/2) or (k == 3/2*n-1):\n",
        "                    print(\"*\", end=\" \")\n",
        "                elif (k > n/2) and (k < 3/2*n-1):\n",
        "                    print(\"-\", end=\" \")\n",
        "                else:\n",
        "                    print(end=\"  \")\n",
        "            elif (j == n/2) or (j == 3/2*n-1):\n",
        "                if (k == 0) or (k == n-1):\n",
        "                    print(\"*\", end=\" \")\n",
        "                elif (k > 0) and (k < n-1):\n",
        "                    print(\"-\", end=\" \")\n",
        "                else:\n",
        "                    print(end=\" \")\n",
        "            elif (k == 3/2*n-1) or (k == n/2):\n",
        "                if (j > 0) and (j < n-1):\n",
        "                    print(\"|\", end=\" \")\n",
        "                else:\n",
        "                    print(end=\"  \")\n",
        "            elif (k == n-1) or (k == 0):\n",
        "                if (j > n/2-1) and (j < 3/2*n-1):\n",
        "                    print(\"|\", end=\" \")\n",
        "                else:\n",
        "                    print(end=\"  \")\n",
        "            elif ((k == n/2-j) or (k == 3/2*n-j-1) or (k == 5/2*n-j-2)) and ((k <= n/2) or (k >= n-1)) and (k <= 3/2*n) and (j <= 3/2*n):\n",
        "                print(\"/\", end=\" \")\n",
        "            else:\n",
        "                print(end=\"  \")\n",
        "        print(end=\"\\n\")\n",
        "cubo(b,a)"
      ]
    }
  ],
  "metadata": {
    "colab": {
      "provenance": []
    },
    "kernelspec": {
      "display_name": "Python 3",
      "name": "python3"
    },
    "language_info": {
      "codemirror_mode": {
        "name": "ipython",
        "version": 3
      },
      "file_extension": ".py",
      "mimetype": "text/x-python",
      "name": "python",
      "nbconvert_exporter": "python",
      "pygments_lexer": "ipython3",
      "version": "3.10.8"
    }
  },
  "nbformat": 4,
  "nbformat_minor": 0
}
