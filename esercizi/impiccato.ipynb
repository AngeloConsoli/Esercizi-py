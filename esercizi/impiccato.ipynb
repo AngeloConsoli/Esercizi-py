{
  "cells": [
    {
      "cell_type": "code",
      "execution_count": null,
      "metadata": {
        "id": "dEWxmkWc48Lz"
      },
      "outputs": [],
      "source": [
        "# Es 8.1 Creare il gioco dell'impiccato\n",
        "# Suggerimento: per controllare se la lettera 'a' è presente all'interno della parola 'casa' si può usare:\n",
        "#\n",
        "# if 'a' in 'casa':\n",
        "#   print('Presente')\n",
        "parola = input(\"Inserisci parola da trovare\")\n",
        "i = 5\n",
        "while i > 0:\n",
        "    a = input(\"Inserisci una lettera o una parola\")\n",
        "    if a == parola:\n",
        "        print(\"Parola trovata. La parola era\", parola)\n",
        "        i = 0\n",
        "    elif a in parola:\n",
        "        print(a, \"è presente\")\n",
        "        print(\"Errori a disposizione: \",i)\n",
        "    else:\n",
        "        print(a, \"non è presente\")\n",
        "        i = i - 1\n",
        "        if i > 0:\n",
        "            print(\"Errori a disposizione: \",i)\n",
        "        else:\n",
        "            print(\"Tentativi esauriti. La parola era\", parola)"
      ]
    }
  ],
  "metadata": {
    "colab": {
      "provenance": []
    },
    "kernelspec": {
      "display_name": "Python 3",
      "name": "python3"
    },
    "language_info": {
      "codemirror_mode": {
        "name": "ipython",
        "version": 3
      },
      "file_extension": ".py",
      "mimetype": "text/x-python",
      "name": "python",
      "nbconvert_exporter": "python",
      "pygments_lexer": "ipython3",
      "version": "3.10.8"
    }
  },
  "nbformat": 4,
  "nbformat_minor": 0
}
